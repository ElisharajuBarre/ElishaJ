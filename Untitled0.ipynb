{
  "nbformat": 4,
  "nbformat_minor": 0,
  "metadata": {
    "colab": {
      "provenance": [],
      "collapsed_sections": [],
      "authorship_tag": "ABX9TyOiBbYqH0eU2bzUxabEgby6",
      "include_colab_link": true
    },
    "kernelspec": {
      "name": "python3",
      "display_name": "Python 3"
    },
    "language_info": {
      "name": "python"
    }
  },
  "cells": [
    {
      "cell_type": "markdown",
      "metadata": {
        "id": "view-in-github",
        "colab_type": "text"
      },
      "source": [
        "<a href=\"https://colab.research.google.com/github/ElisharajuBarre/ElishaJ/blob/main/Untitled0.ipynb\" target=\"_parent\"><img src=\"https://colab.research.google.com/assets/colab-badge.svg\" alt=\"Open In Colab\"/></a>"
      ]
    },
    {
      "cell_type": "code",
      "execution_count": 4,
      "metadata": {
        "colab": {
          "base_uri": "https://localhost:8080/"
        },
        "id": "kyPz08e-KZ6E",
        "outputId": "98cf060e-fd9a-463f-cc7f-fd1f16fd2c8a"
      },
      "outputs": [
        {
          "output_type": "stream",
          "name": "stdout",
          "text": [
            "[[ 0  1  2  3]\n",
            " [ 1  2  7  8]\n",
            " [ 1 51 66 78]]\n"
          ]
        }
      ],
      "source": [
        "import numpy as np\n",
        "\n",
        "arr = np.array([[3, 2, 0, 1],[7,2,8,1],[78,66,51,1]])\n",
        "\n",
        "print(np.sort(arr))\n"
      ]
    },
    {
      "cell_type": "code",
      "source": [
        "import numpy as np\n",
        "  \n",
        "# a is an array of integers.\n",
        "a = np.array([[1, 2, 3], [4, 5, 6]])\n",
        "  \n",
        "print(a)\n",
        "  \n",
        "print ('Indices of elements <4')\n",
        "  \n",
        "b = np.where(a<4)\n",
        "print(b)\n",
        "  \n",
        "print(\"Elements which are <4\")\n",
        "print(a[b])"
      ],
      "metadata": {
        "colab": {
          "base_uri": "https://localhost:8080/"
        },
        "id": "mwiB1tr0L2Ju",
        "outputId": "0b38b072-7f68-4b69-9cfa-b37b5b394114"
      },
      "execution_count": 10,
      "outputs": [
        {
          "output_type": "stream",
          "name": "stdout",
          "text": [
            "[[1 2 3]\n",
            " [4 5 6]]\n",
            "Indices of elements <4\n",
            "(array([1, 1]), array([1, 2]))\n",
            "Elements which are <4\n",
            "[5 6]\n"
          ]
        }
      ]
    }
  ]
}